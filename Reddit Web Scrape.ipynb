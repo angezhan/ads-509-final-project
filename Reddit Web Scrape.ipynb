{
 "cells": [
  {
   "cell_type": "code",
   "execution_count": 268,
   "metadata": {},
   "outputs": [],
   "source": [
    "import warnings\n",
    "warnings.simplefilter(action='ignore', category=FutureWarning)\n",
    "\n",
    "import pandas as pd\n",
    "import numpy as np\n",
    "import os\n",
    "import requests.auth\n",
    "from rich import print\n",
    "\n",
    "\n",
    "import reddit_creds as rc"
   ]
  },
  {
   "cell_type": "code",
   "execution_count": 47,
   "metadata": {},
   "outputs": [],
   "source": [
    "CLIENT_ID = rc.CLIENT_ID\n",
    "CLIENT_SECRET = rc.CLIENT_SECRET\n",
    "USERNAME = rc.USERNAME\n",
    "PASSWORD = rc.PASSWORD"
   ]
  },
  {
   "cell_type": "code",
   "execution_count": 194,
   "metadata": {},
   "outputs": [],
   "source": [
    "client_auth = requests.auth.HTTPBasicAuth(CLIENT_ID, CLIENT_SECRET)\n",
    "post_data = {'grant_type': 'password', 'username': USERNAME, 'password':PASSWORD}\n"
   ]
  },
  {
   "cell_type": "code",
   "execution_count": 195,
   "metadata": {},
   "outputs": [],
   "source": [
    "headers = {\n",
    "    'User-Agent': \"A red scrapper\"\n",
    "}"
   ]
  },
  {
   "cell_type": "code",
   "execution_count": 196,
   "metadata": {},
   "outputs": [],
   "source": [
    "#Token Access ID\n",
    "TOKEN_ACCESS_ENDPOINT = \"https://www.reddit.com/api/v1/access_token\"\n",
    "response = requests.post(TOKEN_ACCESS_ENDPOINT,data=post_data,headers=headers, auth = client_auth)\n",
    "if response.status_code == 200:\n",
    "    token_id = response.json()['access_token']"
   ]
  },
  {
   "cell_type": "code",
   "execution_count": 197,
   "metadata": {},
   "outputs": [],
   "source": [
    "OAUTH_ENDPOINT = 'https://oauth.reddit.com'\n",
    "params_get = {\n",
    "    'limit' : 100\n",
    "}\n",
    "headers_get = {\n",
    "    'User-Agent': \"A red scrapper\",\n",
    "    'Authorization': \"Bearer \" + token_id,\n",
    "}"
   ]
  },
  {
   "cell_type": "code",
   "execution_count": 199,
   "metadata": {},
   "outputs": [
    {
     "data": {
      "text/html": [
       "<pre style=\"white-space:pre;overflow-x:auto;line-height:normal;font-family:Menlo,'DejaVu Sans Mono',consolas,'Courier New',monospace\"><span style=\"font-weight: bold\">&lt;</span><span style=\"color: #ff00ff; text-decoration-color: #ff00ff; font-weight: bold\">Response</span><span style=\"color: #000000; text-decoration-color: #000000\"> </span><span style=\"color: #000000; text-decoration-color: #000000; font-weight: bold\">[</span><span style=\"color: #008080; text-decoration-color: #008080; font-weight: bold\">200</span><span style=\"color: #000000; text-decoration-color: #000000; font-weight: bold\">]</span><span style=\"font-weight: bold\">&gt;</span>\n",
       "</pre>\n"
      ],
      "text/plain": [
       "\u001b[1m<\u001b[0m\u001b[1;95mResponse\u001b[0m\u001b[39m \u001b[0m\u001b[1;39m[\u001b[0m\u001b[1;36m200\u001b[0m\u001b[1;39m]\u001b[0m\u001b[1m>\u001b[0m\n"
      ]
     },
     "metadata": {},
     "output_type": "display_data"
    }
   ],
   "source": [
    "response = requests.get(OAUTH_ENDPOINT + '/r/personalfinance/', headers=headers_get, params = params_get)\n",
    "print(response)"
   ]
  },
  {
   "cell_type": "code",
   "execution_count": 280,
   "metadata": {},
   "outputs": [],
   "source": [
    "def get_subs(subreddit):\n",
    "    temp_df = pd.DataFrame()\n",
    "    i=0\n",
    "    params_get = {\n",
    "        'limit' : 100\n",
    "    }\n",
    "    for i in range(0,10):\n",
    "        response = requests.get(OAUTH_ENDPOINT + subreddit, headers=headers_get, params = params_get)\n",
    "        data = response.json()['data']['children']\n",
    "        after_key = response.json()['data']['after']\n",
    "        before_key = response.json()['data']['before']\n",
    "        for post in data:\n",
    "            temp_df = temp_df.append({\n",
    "                'subreddit': post['data']['subreddit'],\n",
    "                'text': post['data']['selftext']\n",
    "            }, ignore_index = True)\n",
    "        params_get = {\n",
    "            'limit' : 100,\n",
    "            'after': after_key\n",
    "        }\n",
    "        i += 1\n",
    "    return temp_df"
   ]
  },
  {
   "cell_type": "code",
   "execution_count": 298,
   "metadata": {},
   "outputs": [
    {
     "data": {
      "text/html": [
       "<pre style=\"white-space:pre;overflow-x:auto;line-height:normal;font-family:Menlo,'DejaVu Sans Mono',consolas,'Courier New',monospace\">Percent empty strings:  <span style=\"color: #008080; text-decoration-color: #008080; font-weight: bold\">3.0</span> %\n",
       "</pre>\n"
      ],
      "text/plain": [
       "Percent empty strings:  \u001b[1;36m3.0\u001b[0m %\n"
      ]
     },
     "metadata": {},
     "output_type": "display_data"
    }
   ],
   "source": [
    "####Tool to check makeup of text in subreddit, subs like sports have little to no textual content\n",
    "\n",
    "temp = get_subs('/r/poems/')\n",
    "print('Percent empty strings: ', round((temp['text'].values == '').sum()/len(temp),2)*100, '%')"
   ]
  },
  {
   "cell_type": "code",
   "execution_count": 299,
   "metadata": {},
   "outputs": [],
   "source": [
    "subs = ['/r/personalfinance/',\n",
    "        '/r/personaltraining/',\n",
    "        '/r/poems/',\n",
    "        '/r/keepwriting/',\n",
    "        '/r/story/']"
   ]
  },
  {
   "cell_type": "code",
   "execution_count": 300,
   "metadata": {},
   "outputs": [],
   "source": [
    "df = pd.DataFrame()"
   ]
  },
  {
   "cell_type": "code",
   "execution_count": 301,
   "metadata": {},
   "outputs": [],
   "source": [
    "df_list = []\n",
    "for sub in subs:\n",
    "    temp_df = get_subs(sub)\n",
    "    df_list.append(temp_df)\n",
    "df = pd.concat(df_list,axis=0)"
   ]
  },
  {
   "cell_type": "code",
   "execution_count": 314,
   "metadata": {},
   "outputs": [
    {
     "data": {
      "text/html": [
       "<pre style=\"white-space:pre;overflow-x:auto;line-height:normal;font-family:Menlo,'DejaVu Sans Mono',consolas,'Courier New',monospace\">There are  <span style=\"color: #008080; text-decoration-color: #008080; font-weight: bold\">4773</span>  records.\n",
       "</pre>\n"
      ],
      "text/plain": [
       "There are  \u001b[1;36m4773\u001b[0m  records.\n"
      ]
     },
     "metadata": {},
     "output_type": "display_data"
    },
    {
     "data": {
      "text/html": [
       "<pre style=\"white-space:pre;overflow-x:auto;line-height:normal;font-family:Menlo,'DejaVu Sans Mono',consolas,'Courier New',monospace\">Percent empty strings:  <span style=\"color: #008080; text-decoration-color: #008080; font-weight: bold\">7.000000000000001</span> %\n",
       "</pre>\n"
      ],
      "text/plain": [
       "Percent empty strings:  \u001b[1;36m7.000000000000001\u001b[0m %\n"
      ]
     },
     "metadata": {},
     "output_type": "display_data"
    }
   ],
   "source": [
    "print('There are ', len(df), ' records.')\n",
    "print('Percent empty strings: ', (round((df['text'].values == '').sum()/len(df),2))*100, '%')\n"
   ]
  },
  {
   "cell_type": "code",
   "execution_count": null,
   "metadata": {},
   "outputs": [],
   "source": []
  },
  {
   "cell_type": "code",
   "execution_count": null,
   "metadata": {},
   "outputs": [],
   "source": []
  },
  {
   "cell_type": "code",
   "execution_count": null,
   "metadata": {},
   "outputs": [],
   "source": []
  },
  {
   "cell_type": "code",
   "execution_count": null,
   "metadata": {},
   "outputs": [],
   "source": []
  },
  {
   "cell_type": "code",
   "execution_count": null,
   "metadata": {},
   "outputs": [],
   "source": []
  },
  {
   "cell_type": "code",
   "execution_count": null,
   "metadata": {},
   "outputs": [],
   "source": []
  },
  {
   "cell_type": "code",
   "execution_count": null,
   "metadata": {},
   "outputs": [],
   "source": []
  },
  {
   "cell_type": "code",
   "execution_count": null,
   "metadata": {},
   "outputs": [],
   "source": []
  }
 ],
 "metadata": {
  "kernelspec": {
   "display_name": "Python 3",
   "language": "python",
   "name": "python3"
  },
  "language_info": {
   "codemirror_mode": {
    "name": "ipython",
    "version": 3
   },
   "file_extension": ".py",
   "mimetype": "text/x-python",
   "name": "python",
   "nbconvert_exporter": "python",
   "pygments_lexer": "ipython3",
   "version": "3.8.5"
  }
 },
 "nbformat": 4,
 "nbformat_minor": 4
}
